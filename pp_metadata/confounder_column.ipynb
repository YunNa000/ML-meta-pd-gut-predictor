{
 "cells": [
  {
   "cell_type": "markdown",
   "id": "26c54138",
   "metadata": {},
   "source": [
    "* Confounder 변수 \n",
    "- 연구/실험 환경적 요인\t: center_name, geo_location, geo_coord\n",
    "- 생물학적 배경 변수 : sex, age\n",
    "- 기술적/분석적 변수 : project_id, ENA-CHECKLIST, ENA-FIRST-PUBLIC, ENA-LAST-UPDATE, sequencing method, collection_date \n"
   ]
  },
  {
   "cell_type": "code",
   "execution_count": 3,
   "id": "8c46d718",
   "metadata": {},
   "outputs": [
    {
     "name": "stdout",
     "output_type": "stream",
     "text": [
      "<class 'pandas.core.frame.DataFrame'>\n",
      "RangeIndex: 1425 entries, 0 to 1424\n",
      "Data columns (total 67 columns):\n",
      " #   Column                                               Non-Null Count  Dtype  \n",
      "---  ------                                               --------------  -----  \n",
      " 0   sample_id                                            1425 non-null   object \n",
      " 1   alias                                                1424 non-null   object \n",
      " 2   project_id                                           1425 non-null   object \n",
      " 3   center_name                                          1424 non-null   object \n",
      " 4   title                                                1366 non-null   object \n",
      " 5   parkinson                                            1249 non-null   object \n",
      " 6   organism                                             1424 non-null   object \n",
      " 7   ENA-CHECKLIST                                        324 non-null    object \n",
      " 8   collection_date                                      1224 non-null   object \n",
      " 9   ENA-FIRST-PUBLIC                                     1424 non-null   object \n",
      " 10  ENA-LAST-UPDATE                                      1424 non-null   object \n",
      " 11  sequencing method                                    324 non-null    object \n",
      " 12  geo_location                                         1224 non-null   object \n",
      " 13  geo_coord                                            1075 non-null   object \n",
      " 14  sex                                                  726 non-null    object \n",
      " 15  age                                                  926 non-null    float64\n",
      " 16  Sleep_aid                                            1425 non-null   object \n",
      " 17  Pain_med                                             1425 non-null   object \n",
      " 18  Ulcer_past_3_months                                  1425 non-null   object \n",
      " 19  SIBO                                                 1425 non-null   object \n",
      " 20  Day_of_stool_collection_digestion_issue              1425 non-null   object \n",
      " 21  Cholesterol_med                                      1425 non-null   object \n",
      " 22  Antibiotics_current                                  1425 non-null   object \n",
      " 23  Constipation                                         1425 non-null   object \n",
      " 24  How_often_do_you_eat_NUTS                            1425 non-null   object \n",
      " 25  Indigestion_drugs                                    1425 non-null   object \n",
      " 26  Asthma_or_COPD_med                                   1425 non-null   object \n",
      " 27  Thyroid_med                                          1425 non-null   object \n",
      " 28  Diarrhea                                             1425 non-null   object \n",
      " 29  GI_cancer_past_3_months                              1425 non-null   object \n",
      " 30  Anti_inflammatory_drugs                              1425 non-null   object \n",
      " 31  Day_of_stool_collection_abdominal_pain               1425 non-null   object \n",
      " 32  Day_of_stool_collection_excess_gas                   1425 non-null   object \n",
      " 33  Co_Q_10                                              1425 non-null   object \n",
      " 34  Do_you_drink_alcohol                                 1425 non-null   object \n",
      " 35  Radiation_Chemo                                      1425 non-null   object \n",
      " 36  Blood_thinners                                       1425 non-null   object \n",
      " 37  Diabetes_med                                         1425 non-null   object \n",
      " 38  Laxatives                                            1425 non-null   object \n",
      " 39  Colitis                                              1425 non-null   object \n",
      " 40  Depression_anxiety_mood_med                          1425 non-null   object \n",
      " 41  Birth_control_or_estrogen                            1425 non-null   object \n",
      " 42  Blood_pressure_med                                   1425 non-null   object \n",
      " 43  Day_of_stool_collection_constipation                 1425 non-null   object \n",
      " 44  Loss_10lbs_in_last_year                              1425 non-null   object \n",
      " 45  Do_you_smoke                                         1425 non-null   object \n",
      " 46  IBD                                                  1425 non-null   object \n",
      " 47  Jewish_ancestry                                      1425 non-null   object \n",
      " 48  Hispanic_or_Latino                                   1425 non-null   object \n",
      " 49  How_often_do_you_eat_POULTRY_BEEF_PORK_SEAFOOD_EGGS  1425 non-null   object \n",
      " 50  Day_of_stool_collection_diarrhea                     1425 non-null   object \n",
      " 51  Race                                                 1425 non-null   object \n",
      " 52  IBS                                                  1425 non-null   object \n",
      " 53  BMI                                                  1425 non-null   object \n",
      " 54  Intestinal_disease                                   1425 non-null   object \n",
      " 55  Probiotic                                            1425 non-null   object \n",
      " 56  Antihistamines                                       1425 non-null   object \n",
      " 57  Gained_10lbs_in_last_year                            1425 non-null   object \n",
      " 58  Celiac_disease                                       1425 non-null   object \n",
      " 59  Bristol_stool_chart                                  1425 non-null   object \n",
      " 60  How_often_do_you_eat_FRUITS_or_VEGETABLES            1425 non-null   object \n",
      " 61  Do_you_drink_caffeinated_beverages                   1425 non-null   object \n",
      " 62  How_often_do_you_eat_GRAINS                          1425 non-null   object \n",
      " 63  How_often_do_you_eat_YOGURT                          1425 non-null   object \n",
      " 64  Crohns_disease                                       1425 non-null   object \n",
      " 65  Day_of_stool_collection_bloating                     1425 non-null   object \n",
      " 66  Antibiotics_past_3_months                            1425 non-null   object \n",
      "dtypes: float64(1), object(66)\n",
      "memory usage: 746.0+ KB\n",
      "['gut patient' 'gut control' 'no' 'yes' nan 'Parkinson disease' 'Control'\n",
      " 'PD']\n",
      "parkinson\n",
      "Pd         760\n",
      "Control    489\n",
      "NaN        176\n",
      "Name: count, dtype: int64\n"
     ]
    }
   ],
   "source": [
    "import pandas as pd\n",
    "\n",
    "# 1. CSV 불러오기\n",
    "df = pd.read_csv(\"all_column_delete10.csv\")\n",
    "\n",
    "df.info()\n",
    "\n",
    "# 라벨 종류 확인\n",
    "print(df[\"parkinson\"].unique())\n",
    "\n",
    "# 라벨 통일 (의미 기준: PD 관련 vs Control 관련)\n",
    "df[\"parkinson\"] = df[\"parkinson\"].replace({\n",
    "    \"Parkinson disease\": \"PD\",\n",
    "    \"PD\": \"PD\",\n",
    "    \"yes\": \"PD\",\n",
    "    \"gut patient\": \"PD\",\n",
    "    \"Control\": \"Control\",\n",
    "    \"no\": \"Control\",\n",
    "    \"gut control\": \"Control\"\n",
    "})\n",
    "\n",
    "# 혹시 모를 공백/대소문자 정리\n",
    "df[\"parkinson\"] = df[\"parkinson\"].str.strip().str.capitalize()\n",
    "\n",
    "# 최종 확인\n",
    "print(df[\"parkinson\"].value_counts(dropna=False))\n",
    "\n"
   ]
  },
  {
   "cell_type": "markdown",
   "id": "b00cffad",
   "metadata": {},
   "source": [
    "confounder 후보 연속형인지 범주형인지 확인 -> info 로 \n",
    "\n",
    "counfounder 변수의 dtype 이 object라 나와있어서 정리 필요"
   ]
  },
  {
   "cell_type": "code",
   "execution_count": null,
   "id": "a969a069",
   "metadata": {},
   "outputs": [],
   "source": []
  },
  {
   "cell_type": "markdown",
   "id": "c7988769",
   "metadata": {},
   "source": [
    "[0] 라이브러리 import & 전처리"
   ]
  },
  {
   "cell_type": "code",
   "execution_count": null,
   "id": "ebc33a5d",
   "metadata": {},
   "outputs": [],
   "source": [
    "import pandas as pd\n",
    "import numpy as np\n",
    "import seaborn as sns\n",
    "import matplotlib.pyplot as plt\n",
    "from scipy.stats import chi2_contingency, f_oneway\n",
    "from sklearn.decomposition import PCA\n",
    "from sklearn.preprocessing import StandardScaler"
   ]
  },
  {
   "cell_type": "markdown",
   "id": "9169fcfb",
   "metadata": {},
   "source": [
    "[1] Confounder 후보 변수 지정"
   ]
  },
  {
   "cell_type": "code",
   "execution_count": null,
   "id": "63c10673",
   "metadata": {},
   "outputs": [],
   "source": [
    "# label은 반드시 string으로 통일\n",
    "df[\"label\"] = df[\"parkinson\"].astype(str)\n",
    "\n",
    "# confounder 후보들\n",
    "categorical_confounders = [\n",
    "    \"center_name\", \"geo_location\", \"geo_coord\", \"sex\", \"project_id\",\n",
    "    \"ENA-CHECKLIST\", \"ENA-FIRST-PUBLIC\", \"ENA-LAST-UPDATE\", \"sequencing method\",\n",
    "    \"collection_date\", \"env_biome\"\n",
    "]\n",
    "\n",
    "continuous_confounders = [\"age\"]\n"
   ]
  },
  {
   "cell_type": "markdown",
   "id": "d230aa55",
   "metadata": {},
   "source": [
    "[2] 범주형 Confounder vs Label 분석 (crosstab + chi-square)"
   ]
  },
  {
   "cell_type": "code",
   "execution_count": null,
   "id": "9dc436f8",
   "metadata": {},
   "outputs": [],
   "source": [
    "for var in categorical_confounders:\n",
    "    if var not in df.columns:\n",
    "        print(f\"[{var}] 존재하지 않음. 스킵\")\n",
    "        continue\n",
    "    print(f\"\\n==== {var} ====\")\n",
    "    try:\n",
    "        ct = pd.crosstab(df[var], df[\"label\"], normalize=\"index\")\n",
    "        display(ct)\n",
    "\n",
    "        # 카이제곱 검정\n",
    "        chi2_table = pd.crosstab(df[var], df[\"label\"])\n",
    "        chi2, p, _, _ = chi2_contingency(chi2_table)\n",
    "        print(f\"Chi-square p-value: {p:.4f}\")\n",
    "    except Exception as e:\n",
    "        print(f\"오류 발생: {e}\")\n"
   ]
  },
  {
   "cell_type": "markdown",
   "id": "a37aae4e",
   "metadata": {},
   "source": [
    "[3] 연속형 Confounder vs Label 분석 (boxplot + ANOVA)"
   ]
  },
  {
   "cell_type": "code",
   "execution_count": null,
   "id": "8e8ef2b9",
   "metadata": {},
   "outputs": [],
   "source": [
    "for var in continuous_confounders:\n",
    "    if var not in df.columns:\n",
    "        print(f\"[{var}] 존재하지 않음. 스킵\")\n",
    "        continue\n",
    "    print(f\"\\n==== {var} ====\")\n",
    "\n",
    "    # boxplot\n",
    "    sns.boxplot(data=df, x=\"label\", y=var)\n",
    "    plt.title(f\"{var} vs label\")\n",
    "    plt.show()\n",
    "\n",
    "    # ANOVA\n",
    "    groups = [df[df[\"label\"] == l][var].dropna() for l in df[\"label\"].unique()]\n",
    "    if all(len(g) > 1 for g in groups):\n",
    "        f_stat, p = f_oneway(*groups)\n",
    "        print(f\"ANOVA p-value: {p:.4f}\")\n",
    "    else:\n",
    "        print(\"그룹 중 데이터 부족으로 ANOVA 불가\")\n"
   ]
  },
  {
   "cell_type": "markdown",
   "id": "c295aab8",
   "metadata": {},
   "source": [
    "[5] 도메인 해석 및 판단은 따로 정리"
   ]
  }
 ],
 "metadata": {
  "kernelspec": {
   "display_name": "Python 3",
   "language": "python",
   "name": "python3"
  },
  "language_info": {
   "codemirror_mode": {
    "name": "ipython",
    "version": 3
   },
   "file_extension": ".py",
   "mimetype": "text/x-python",
   "name": "python",
   "nbconvert_exporter": "python",
   "pygments_lexer": "ipython3",
   "version": "3.11.9"
  }
 },
 "nbformat": 4,
 "nbformat_minor": 5
}
