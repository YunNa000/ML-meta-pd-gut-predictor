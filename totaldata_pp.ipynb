{
 "cells": [
  {
   "cell_type": "code",
   "execution_count": 15,
   "id": "9f21e5d6",
   "metadata": {},
   "outputs": [
    {
     "name": "stderr",
     "output_type": "stream",
     "text": [
      "C:\\Users\\user\\AppData\\Local\\Temp\\ipykernel_13048\\2106848451.py:4: DtypeWarning: Columns (5,6,9) have mixed types. Specify dtype option on import or set low_memory=False.\n",
      "  merged_df = pd.read_csv(\"merged_metadata_feature2.csv\")\n"
     ]
    }
   ],
   "source": [
    "import pandas as pd\n",
    "\n",
    "# 1. CSV 불러오기\n",
    "merged_df = pd.read_csv(\"merged_metadata_feature2.csv\")"
   ]
  },
  {
   "cell_type": "code",
   "execution_count": 16,
   "id": "f862fbec",
   "metadata": {},
   "outputs": [
    {
     "name": "stdout",
     "output_type": "stream",
     "text": [
      "❌ 전부 결측치인 열 수: 100\n"
     ]
    }
   ],
   "source": [
    "# 전부 결측치인 칼럼 제거\n",
    "all_missing_cols = merged_df.columns[merged_df.isna().all()]\n",
    "print(f\"❌ 전부 결측치인 열 수: {len(all_missing_cols)}\")\n",
    "merged_df = merged_df.drop(columns=all_missing_cols)\n"
   ]
  },
  {
   "cell_type": "code",
   "execution_count": null,
   "id": "8a08e496",
   "metadata": {},
   "outputs": [
    {
     "name": "stdout",
     "output_type": "stream",
     "text": [
      "⚠ 결측률 50% 이상 컬럼:\n",
      "sex                  0.998469\n",
      "age                  0.698315\n",
      "ENA-CHECKLIST        0.503828\n",
      "sequencing method    0.503828\n",
      "dtype: float64\n"
     ]
    }
   ],
   "source": [
    "# 결측치 비율 높은 칼럼 파악 (예: 50% 이상)\n",
    "na_ratio = merged_df.isna().mean()\n",
    "high_na_cols = na_ratio[na_ratio > 0.5].sort_values(ascending=False)\n",
    "print(\"⚠ 결측률 50% 이상 컬럼:\")\n",
    "print(high_na_cols)\n",
    "\n",
    "#-> 이후에 혼동변수로 수동 정리할 예정 "
   ]
  },
  {
   "cell_type": "code",
   "execution_count": 18,
   "id": "2582788e",
   "metadata": {},
   "outputs": [
    {
     "name": "stdout",
     "output_type": "stream",
     "text": [
      "⚠ 중복된 sample_id 수: 0\n"
     ]
    }
   ],
   "source": [
    "# 중복되는 sample_id 확인 (있으면 병합 오류 가능)\n",
    "dupes = merged_df['sample_id'].duplicated().sum()\n",
    "print(f\"⚠ 중복된 sample_id 수: {dupes}\")"
   ]
  },
  {
   "cell_type": "code",
   "execution_count": 19,
   "id": "84de131c",
   "metadata": {},
   "outputs": [
    {
     "name": "stdout",
     "output_type": "stream",
     "text": [
      "Empty DataFrame\n",
      "Columns: [sample_id, alias, project_id, center_name, parkinson, ENA-CHECKLIST, collection_date, ENA-FIRST-PUBLIC, ENA-LAST-UPDATE, sequencing method, geo_location, geo_coord, sex, age, 0319-6G20, 0319-7L14, 11-24, 1174-901-12, 27F-1492R, 28-YEA-48, 37-13, 67-14, A0839, A2, A21b, A4b, AKAU4049, AKIW781, AKYG1722, AKYG587, AKYH767, ASF356, AT-s3-28, Abiotrophia, Absconditabacteriales_(SR1), Acetanaerobacterium, Acetatifactor, Acetivibrio, Acetoanaerobium, Acetobacteraceae, Acholeplasma, Achromobacter, Acidaminococcus, Acidibacter, Acidipila, Acidisphaera, Acidovorax, Acinetobacter, Actinobacillus, Actinocorallia, Actinomadura, Actinomarinales, Actinomyces, Actinomycetospora, Actinophytocola, Actinoplanes, Actinotignum, Adhaeribacter, Adlercreutzia, Aequorivita, Aeribacillus, Aerococcus, Aeromicrobium, Aeromonas, Afipia, Agathobacter, Aggregatibacter, Agromyces, Ahniella, Akkermansia, Alcaligenes, Alcanivorax, Algoriphagus, Aliicoccus, Aliidiomarina, Aliifodinibius, Aliihoeflea, Alishewanella, Alistipes, Aliterella, Alkanindiges, Allisonella, Allobaculum, Allocatelliglobosispora, Alloprevotella, Allorhizobium-Neorhizobium-Pararhizobium-Rhizobium, Altererythrobacter, Alysiella, Amaricoccus, Amb-16S-1323, Amphiplicatus, Ampullimonas, Amycolatopsis, Anaerococcus, Anaerofilum, Anaerofustis, Anaeroglobus, Anaerolinea, Anaeromyxobacter, Anaeroplasma, ...]\n",
      "Index: []\n",
      "\n",
      "[0 rows x 1148 columns]\n"
     ]
    }
   ],
   "source": [
    "dup_ids = merged_df[merged_df['sample_id'].duplicated(keep=False)]\n",
    "print(dup_ids.sort_values('sample_id'))\n"
   ]
  },
  {
   "cell_type": "code",
   "execution_count": 20,
   "id": "f18690c4",
   "metadata": {},
   "outputs": [
    {
     "name": "stdout",
     "output_type": "stream",
     "text": [
      "sample_id             object\n",
      "alias                 object\n",
      "project_id            object\n",
      "center_name           object\n",
      "parkinson             object\n",
      "                      ...   \n",
      "possible_genus_04    float64\n",
      "type_III             float64\n",
      "uncultured           float64\n",
      "vadinBE97            float64\n",
      "wb1-P19              float64\n",
      "Length: 1148, dtype: object\n",
      "[nan 32. 46. 62. 48. 66. 59. 38. 72. 68. 64. 58. 71. 73. 77. 74. 67. 63.\n",
      " 65. 70. 69. 61. 57. 75. 55. 49. 50. 76. 56. 60. 47. 53. 52. 44. 54. 84.\n",
      " 45. 79. 78. 83. 80. 82. 51.]\n"
     ]
    }
   ],
   "source": [
    "# 이상치 값: 문자형인데 수치형이어야 할 컬럼, 혹은 반대\n",
    "print(merged_df.dtypes)\n",
    "# 또는 특정 변수 검사\n",
    "print(merged_df['age'].unique())"
   ]
  },
  {
   "cell_type": "code",
   "execution_count": 21,
   "id": "d68a036b",
   "metadata": {},
   "outputs": [
    {
     "name": "stdout",
     "output_type": "stream",
     "text": [
      "✅ 결측치 제거 후 CSV 저장 완료 → !merged_metadata_feature2.csv\n"
     ]
    }
   ],
   "source": [
    "output_path = \"!merged_metadata_feature2.csv\"\n",
    "merged_df.to_csv(output_path, index=False)\n",
    "print(f\"✅ 결측치 제거 후 CSV 저장 완료 → {output_path}\")"
   ]
  },
  {
   "cell_type": "markdown",
   "id": "8dfb692c",
   "metadata": {},
   "source": [
    "혼동변수 제거한 통합 데이터"
   ]
  },
  {
   "cell_type": "code",
   "execution_count": 23,
   "id": "93a09a1c",
   "metadata": {},
   "outputs": [
    {
     "name": "stderr",
     "output_type": "stream",
     "text": [
      "C:\\Users\\user\\AppData\\Local\\Temp\\ipykernel_13048\\4090075811.py:4: DtypeWarning: Columns (5,6,9) have mixed types. Specify dtype option on import or set low_memory=False.\n",
      "  df = pd.read_csv(\"!merged_metadata_feature2.csv\")\n"
     ]
    },
    {
     "name": "stdout",
     "output_type": "stream",
     "text": [
      "✅ 혼동 변수 제거 후 저장 완료 → !merged_metadata_feature3.csv\n",
      "❎ 제거된 변수 목록: ['center_name', 'geo_location', 'geo_coord', 'sex', 'age', 'project_id', 'ENA-CHECKLIST', 'ENA-FIRST-PUBLIC', 'ENA-LAST-UPDATE', 'sequencing method', 'collection_date']\n"
     ]
    }
   ],
   "source": [
    "import pandas as pd\n",
    "\n",
    "# 1. CSV 불러오기\n",
    "df = pd.read_csv(\"!merged_metadata_feature2.csv\")\n",
    "\n",
    "# 🔍 현재 데이터프레임에서 제거할 변수 목록\n",
    "exclude_cols = [\n",
    "    # 연구/실험 환경적 요인\n",
    "    'center_name', 'geo_location', 'geo_coord',\n",
    "\n",
    "    # 생물학적 배경 변수\n",
    "    'sex', 'age',\n",
    "\n",
    "    # 기술적/분석적 변수\n",
    "    'project_id', 'ENA-CHECKLIST', 'ENA-FIRST-PUBLIC', 'ENA-LAST-UPDATE',\n",
    "    'sequencing method', 'collection_date'\n",
    "]\n",
    "# ✅ 실제 존재하는 컬럼만 제거 (오타 방지)\n",
    "df = [col for col in exclude_cols if col in merged_df.columns]\n",
    "\n",
    "# 🔄 제거 수행\n",
    "df_no_confounders = merged_df.drop(columns=df)\n",
    "\n",
    "# ✅ 저장\n",
    "output_path = \"!merged_metadata_feature3.csv\"\n",
    "df_no_confounders.to_csv(output_path, index=False)\n",
    "print(f\"✅ 혼동 변수 제거 후 저장 완료 → {output_path}\")\n",
    "print(f\"❎ 제거된 변수 목록: {df}\")\n"
   ]
  }
 ],
 "metadata": {
  "kernelspec": {
   "display_name": "Python 3",
   "language": "python",
   "name": "python3"
  },
  "language_info": {
   "codemirror_mode": {
    "name": "ipython",
    "version": 3
   },
   "file_extension": ".py",
   "mimetype": "text/x-python",
   "name": "python",
   "nbconvert_exporter": "python",
   "pygments_lexer": "ipython3",
   "version": "3.11.9"
  }
 },
 "nbformat": 4,
 "nbformat_minor": 5
}
